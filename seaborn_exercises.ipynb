{
 "cells": [
  {
   "cell_type": "markdown",
   "id": "62a9f9ca",
   "metadata": {},
   "source": [
    "# Exercises\n",
    "\n",
    "Use the iris database to answer the following quesitons:\n",
    "\n",
    "### 1. What does the distribution of petal lengths look like?\n",
    "### 2. Is there a correlation between petal length and petal width?\n",
    "### 3. Would it be reasonable to predict species based on sepal width and sepal length?\n",
    "### 4. Which features would be best used to predict species?\n",
    "\n",
    "___\n",
    "\n",
    "### 1. Using the lesson as an example, use seaborn's load_dataset function to load the anscombe data set. Use pandas to group the data by the dataset column, and calculate summary statistics for each dataset. What do you notice?\n",
    "\n",
    "### 2. Plot the x and y values from the anscombe data. Each dataset should be in a separate column.\n",
    "\n",
    "### 3. Load the InsectSprays dataset and read it's documentation. Create a boxplot that shows the effectiveness of the different insect sprays.\n",
    "\n",
    "### 4. Load the swiss dataset and read it's documentation. The swiss dataset is available from pydatset rather than seaborn. Create visualizations to answer the following questions:\n",
    "* Create an attribute named is_catholic that holds a boolean value of whether or not the province is Catholic. (Choose a cutoff point for what constitutes catholic)\n",
    "* Does whether or not a province is Catholic influence fertility?\n",
    "* What measure correlates most strongly with fertility?\n",
    "Using the chipotle dataset from the previous exercise, create a bar chart that shows the 4 most popular items and the revenue produced by each.\n",
    "\n",
    "### 5. Load the sleepstudy data and read it's documentation. Use seaborn to create a line chart of all the individual subject's reaction times and a more prominant line showing the average change in reaction time."
   ]
  }
 ],
 "metadata": {
  "kernelspec": {
   "display_name": "Python 3.8.8 64-bit ('base': conda)",
   "language": "python",
   "name": "python388jvsc74a57bd0b64057e63add2b45b1ffc7eab9b09c8889b419c878e2fdf0d08f837f0fc857a7"
  },
  "language_info": {
   "codemirror_mode": {
    "name": "ipython",
    "version": 3
   },
   "file_extension": ".py",
   "mimetype": "text/x-python",
   "name": "python",
   "nbconvert_exporter": "python",
   "pygments_lexer": "ipython3",
   "version": "3.8.8"
  }
 },
 "nbformat": 4,
 "nbformat_minor": 5
}
